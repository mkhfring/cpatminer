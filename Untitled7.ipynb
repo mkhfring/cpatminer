{
  "nbformat": 4,
  "nbformat_minor": 0,
  "metadata": {
    "colab": {
      "name": "Untitled7.ipynb",
      "provenance": [],
      "authorship_tag": "ABX9TyP5mdKynyZktU35pMKhgenc",
      "include_colab_link": true
    },
    "kernelspec": {
      "name": "python3",
      "display_name": "Python 3"
    },
    "language_info": {
      "name": "python"
    }
  },
  "cells": [
    {
      "cell_type": "markdown",
      "metadata": {
        "id": "view-in-github",
        "colab_type": "text"
      },
      "source": [
        "<a href=\"https://colab.research.google.com/github/mkhfring/cpatminer/blob/master/Untitled7.ipynb\" target=\"_parent\"><img src=\"https://colab.research.google.com/assets/colab-badge.svg\" alt=\"Open In Colab\"/></a>"
      ]
    },
    {
      "cell_type": "code",
      "metadata": {
        "id": "DHR1hkHwzCXN",
        "outputId": "1c223e93-2fce-44e8-9ee7-709eb9589d4c",
        "colab": {
          "base_uri": "https://localhost:8080/"
        }
      },
      "source": [
        "!git clone https://github.com/mkhfring/cpatminer.git"
      ],
      "execution_count": 12,
      "outputs": [
        {
          "output_type": "stream",
          "text": [
            "fatal: destination path 'cpatminer' already exists and is not an empty directory.\n"
          ],
          "name": "stdout"
        }
      ]
    },
    {
      "cell_type": "code",
      "metadata": {
        "id": "hbg50BXq9-i2",
        "outputId": "63582387-b0ff-48af-ac9a-be9a7be751f1",
        "colab": {
          "base_uri": "https://localhost:8080/"
        }
      },
      "source": [
        "!pip install -e .\n",
        "!pip install -r requirements.txt"
      ],
      "execution_count": 15,
      "outputs": [
        {
          "output_type": "stream",
          "text": [
            "Obtaining file:///content/sample_data/cpatminer\n",
            "Installing collected packages: cpat-miner\n",
            "  Found existing installation: cpat-miner 0.0.0\n",
            "    Can't uninstall 'cpat-miner'. No files were found to uninstall.\n",
            "  Running setup.py develop for cpat-miner\n",
            "Successfully installed cpat-miner\n",
            "Collecting pytest-pudb\n",
            "  Downloading https://files.pythonhosted.org/packages/14/b1/c7778f0833bec731a5e46947e4aefbb20c6996d4dfe58d649430e640147f/pytest_pudb-0.7.0-py2.py3-none-any.whl\n",
            "Requirement already satisfied: jedi in /usr/local/lib/python3.7/dist-packages (from -r requirements.txt (line 2)) (0.18.0)\n",
            "Requirement already satisfied: astor in /usr/local/lib/python3.7/dist-packages (from -r requirements.txt (line 3)) (0.8.1)\n",
            "Collecting GitPython\n",
            "\u001b[?25l  Downloading https://files.pythonhosted.org/packages/a6/99/98019716955ba243657daedd1de8f3a88ca1f5b75057c38e959db22fb87b/GitPython-3.1.14-py3-none-any.whl (159kB)\n",
            "\u001b[K     |████████████████████████████████| 163kB 5.1MB/s \n",
            "\u001b[?25hRequirement already satisfied: matplotlib in /usr/local/lib/python3.7/dist-packages (from -r requirements.txt (line 5)) (3.2.2)\n",
            "Collecting pudb\n",
            "\u001b[?25l  Downloading https://files.pythonhosted.org/packages/3d/bc/1947dc9dc54a44bc6cbff3556cd514258886a4a60e85aa32a3ba027098bc/pudb-2020.1.tar.gz (70kB)\n",
            "\u001b[K     |████████████████████████████████| 71kB 4.1MB/s \n",
            "\u001b[?25hRequirement already satisfied: pytest>=2.0 in /usr/local/lib/python3.7/dist-packages (from pytest-pudb->-r requirements.txt (line 1)) (3.6.4)\n",
            "Requirement already satisfied: parso<0.9.0,>=0.8.0 in /usr/local/lib/python3.7/dist-packages (from jedi->-r requirements.txt (line 2)) (0.8.2)\n",
            "Collecting gitdb<5,>=4.0.1\n",
            "\u001b[?25l  Downloading https://files.pythonhosted.org/packages/ea/e8/f414d1a4f0bbc668ed441f74f44c116d9816833a48bf81d22b697090dba8/gitdb-4.0.7-py3-none-any.whl (63kB)\n",
            "\u001b[K     |████████████████████████████████| 71kB 3.6MB/s \n",
            "\u001b[?25hRequirement already satisfied: cycler>=0.10 in /usr/local/lib/python3.7/dist-packages (from matplotlib->-r requirements.txt (line 5)) (0.10.0)\n",
            "Requirement already satisfied: kiwisolver>=1.0.1 in /usr/local/lib/python3.7/dist-packages (from matplotlib->-r requirements.txt (line 5)) (1.3.1)\n",
            "Requirement already satisfied: numpy>=1.11 in /usr/local/lib/python3.7/dist-packages (from matplotlib->-r requirements.txt (line 5)) (1.19.5)\n",
            "Requirement already satisfied: pyparsing!=2.0.4,!=2.1.2,!=2.1.6,>=2.0.1 in /usr/local/lib/python3.7/dist-packages (from matplotlib->-r requirements.txt (line 5)) (2.4.7)\n",
            "Requirement already satisfied: python-dateutil>=2.1 in /usr/local/lib/python3.7/dist-packages (from matplotlib->-r requirements.txt (line 5)) (2.8.1)\n",
            "Collecting urwid>=1.1.1\n",
            "\u001b[?25l  Downloading https://files.pythonhosted.org/packages/94/3f/e3010f4a11c08a5690540f7ebd0b0d251cc8a456895b7e49be201f73540c/urwid-2.1.2.tar.gz (634kB)\n",
            "\u001b[K     |████████████████████████████████| 634kB 7.4MB/s \n",
            "\u001b[?25hRequirement already satisfied: pygments>=1.0 in /usr/local/lib/python3.7/dist-packages (from pudb->pytest-pudb->-r requirements.txt (line 1)) (2.6.1)\n",
            "Requirement already satisfied: attrs>=17.4.0 in /usr/local/lib/python3.7/dist-packages (from pytest>=2.0->pytest-pudb->-r requirements.txt (line 1)) (20.3.0)\n",
            "Requirement already satisfied: py>=1.5.0 in /usr/local/lib/python3.7/dist-packages (from pytest>=2.0->pytest-pudb->-r requirements.txt (line 1)) (1.10.0)\n",
            "Requirement already satisfied: six>=1.10.0 in /usr/local/lib/python3.7/dist-packages (from pytest>=2.0->pytest-pudb->-r requirements.txt (line 1)) (1.15.0)\n",
            "Requirement already satisfied: pluggy<0.8,>=0.5 in /usr/local/lib/python3.7/dist-packages (from pytest>=2.0->pytest-pudb->-r requirements.txt (line 1)) (0.7.1)\n",
            "Requirement already satisfied: atomicwrites>=1.0 in /usr/local/lib/python3.7/dist-packages (from pytest>=2.0->pytest-pudb->-r requirements.txt (line 1)) (1.4.0)\n",
            "Requirement already satisfied: setuptools in /usr/local/lib/python3.7/dist-packages (from pytest>=2.0->pytest-pudb->-r requirements.txt (line 1)) (54.2.0)\n",
            "Requirement already satisfied: more-itertools>=4.0.0 in /usr/local/lib/python3.7/dist-packages (from pytest>=2.0->pytest-pudb->-r requirements.txt (line 1)) (8.7.0)\n",
            "Collecting smmap<5,>=3.0.1\n",
            "  Downloading https://files.pythonhosted.org/packages/68/ee/d540eb5e5996eb81c26ceffac6ee49041d473bc5125f2aa995cf51ec1cf1/smmap-4.0.0-py2.py3-none-any.whl\n",
            "Building wheels for collected packages: pudb, urwid\n",
            "  Building wheel for pudb (setup.py) ... \u001b[?25l\u001b[?25hdone\n",
            "  Created wheel for pudb: filename=pudb-2020.1-cp37-none-any.whl size=66672 sha256=37b7df39b424e870f0832a2947126a239cf0e1d814f7bc97629f096281741a18\n",
            "  Stored in directory: /root/.cache/pip/wheels/35/7e/f8/9dcb9bb4c28d4ea6bc6a312b901591e2c689f402a5c190627d\n",
            "  Building wheel for urwid (setup.py) ... \u001b[?25l\u001b[?25hdone\n",
            "  Created wheel for urwid: filename=urwid-2.1.2-cp37-cp37m-linux_x86_64.whl size=258276 sha256=4ea2c0926e444a9e580cd73168f68f4e866ba04d3ee5ab1478fe6ee6aa97311e\n",
            "  Stored in directory: /root/.cache/pip/wheels/6f/0b/8c/cdfc1a04f75128ffdf0e8a7a5ce63e10166d33fba5335c1810\n",
            "Successfully built pudb urwid\n",
            "Installing collected packages: urwid, pudb, pytest-pudb, smmap, gitdb, GitPython\n",
            "Successfully installed GitPython-3.1.14 gitdb-4.0.7 pudb-2020.1 pytest-pudb-0.7.0 smmap-4.0.0 urwid-2.1.2\n"
          ],
          "name": "stdout"
        }
      ]
    },
    {
      "cell_type": "code",
      "metadata": {
        "id": "xbwa9I3c-CvF",
        "outputId": "5e702519-5a97-44a7-94b3-60ae4a2f3f69",
        "colab": {
          "base_uri": "https://localhost:8080/"
        }
      },
      "source": [
        "ls"
      ],
      "execution_count": 29,
      "outputs": [
        {
          "output_type": "stream",
          "text": [
            "ast_tree.py    \u001b[0m\u001b[01;34mdata\u001b[0m/       __init__.py  \u001b[01;34m__pycache__\u001b[0m/   utils.py\n",
            "create_ast.py  example.py  main.py      repo_list.csv\n"
          ],
          "name": "stdout"
        }
      ]
    }
  ]
}